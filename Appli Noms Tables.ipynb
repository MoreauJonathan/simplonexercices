{
 "cells": [
  {
   "cell_type": "code",
   "execution_count": 8,
   "metadata": {
    "scrolled": true
   },
   "outputs": [
    {
     "name": "stdout",
     "output_type": "stream",
     "text": [
      "Djerfi Souad 1\n",
      "Marais Anthony 2\n",
      "Moreau Jonathan 3\n",
      "Clace Lukas 4\n",
      "Deleage Lucas 5\n",
      "Paul Debolina 6\n",
      "Cancian Hadrien 7\n",
      "Bayet Davy 8\n",
      "Fratani Karen 9\n",
      "Beuil Alexandre 10\n",
      "El Majdoub Chourouk 11\n",
      "Pawtowski Wilfried 12\n",
      "Bouharaoui Tarek 13\n",
      "Pelliccioli Luca 14\n",
      "Jacquemin Anthony 15\n",
      "Wathelet Florent 16\n",
      "Fernandes Stephane 17\n",
      "Ramanitrarivo Niry 18\n",
      "Boubaker Samy 19\n",
      "Lesoeur Raphael 20\n",
      "Bouazza Nedra 21\n",
      "Vidon Elodie 22\n"
     ]
    }
   ],
   "source": [
    "from random import*\n",
    "\n",
    "Nom = [\"Bayet Davy\",\"Beuil Alexandre\",\"Bouazza Nedra\",\"Boubaker Samy\",\"Bouharaoui Tarek\",\"Cancian Hadrien\",\n",
    "       \"Clace Lukas\",\"Deleage Lucas\",\"Djerfi Souad\",\"El Majdoub Chourouk\",\"Fernandes Stephane\",\"Fratani Karen\"\n",
    "       ,\"Jacquemin Anthony\",\"Lesoeur Raphael\",\"Marais Anthony\",\"Moreau Jonathan\",\"Paul Debolina\",\n",
    "       \"Pawtowski Wilfried\",\"Pelliccioli Luca\",\"Ramanitrarivo Niry\",\"Vidon Elodie\",\"Wathelet Florent\"]\n",
    "shuffle(Nom)\n",
    "for i in range(len(Nom)):\n",
    "    print(Nom[i],i+1)\n"
   ]
  },
  {
   "cell_type": "code",
   "execution_count": null,
   "metadata": {},
   "outputs": [],
   "source": []
  },
  {
   "cell_type": "code",
   "execution_count": null,
   "metadata": {},
   "outputs": [],
   "source": []
  },
  {
   "cell_type": "code",
   "execution_count": null,
   "metadata": {},
   "outputs": [],
   "source": []
  }
 ],
 "metadata": {
  "kernelspec": {
   "display_name": "Python 3",
   "language": "python",
   "name": "python3"
  },
  "language_info": {
   "codemirror_mode": {
    "name": "ipython",
    "version": 3
   },
   "file_extension": ".py",
   "mimetype": "text/x-python",
   "name": "python",
   "nbconvert_exporter": "python",
   "pygments_lexer": "ipython3",
   "version": "3.7.6"
  }
 },
 "nbformat": 4,
 "nbformat_minor": 4
}
