{
 "cells": [
  {
   "cell_type": "code",
   "execution_count": null,
   "metadata": {},
   "outputs": [],
   "source": [
    "n = input(\"Tapez la valeur de n :\")\n",
    "n = int(n)\n",
    "r = n % 2\n",
    "if(r == 0):\n",
    "    print(\"Le nombre n est pair\")\n",
    "else:\n",
    "    print(\"Le nombre n tapé est impair\")"
   ]
  },
  {
   "cell_type": "raw",
   "metadata": {},
   "source": [
    "Etant donné les longueurs des côtés d'un triangle (hypoténuse, côté adjacent).\n",
    "Ecrire un programme qui vérifie si un triangle est rectangle."
   ]
  },
  {
   "cell_type": "code",
   "execution_count": null,
   "metadata": {},
   "outputs": [],
   "source": [
    "Si un de ce\n",
    "s cas là se vérifie alors le triangle est rectangle.\n",
    "a**2 = b**2 + c**2\n",
    "b**2 = a**2 + c**2\n",
    "c**2 = a**2 + b**2"
   ]
  },
  {
   "cell_type": "code",
   "execution_count": 1,
   "metadata": {},
   "outputs": [
    {
     "name": "stdout",
     "output_type": "stream",
     "text": [
      "Entrez une valeur :45\n",
      "Entrez une valeur :56\n",
      "Entrez une valeur :67\n",
      "Le triangle n'est pas rectangle\n"
     ]
    }
   ],
   "source": [
    "a = float(input(\"Entrez une valeur :\"))\n",
    "b = float(input(\"Entrez une valeur :\"))\n",
    "c = float(input(\"Entrez une valeur :\"))\n",
    "if a**2 == b**2 + c**2 :\n",
    "    print(\"Le triangle est rectangle\")\n",
    "\n",
    "elif b**2 == a**2 + c**2 :\n",
    "    print(\"Le triangle est rectangle\")\n",
    "    \n",
    "elif c**2 == a**2 + b**2 :\n",
    "    print(\"Le triangle est rectangle\")\n",
    "    \n",
    "else : \n",
    "    print(\"Le triangle n'est pas rectangle\")"
   ]
  },
  {
   "cell_type": "code",
   "execution_count": null,
   "metadata": {},
   "outputs": [],
   "source": [
    "Créer un programme qui donne le prix TTC après avoir saisie le prix HT.\n",
    "Ce programme doit se répéter pour pouvoir entrer plusieurs prix à la\n",
    "suite et ne s’arrêter que si l’utilisateur rentre 0."
   ]
  },
  {
   "cell_type": "code",
   "execution_count": 10,
   "metadata": {},
   "outputs": [
    {
     "name": "stdout",
     "output_type": "stream",
     "text": [
      "Entrez un prix hors taxe : 1853\n",
      "Le prix TTC est :  2223.6\n",
      "Entrez un prix hors taxe : 0\n",
      "Le prix TTC est :  0.0\n"
     ]
    }
   ],
   "source": [
    "a = None\n",
    "while a != 0 :\n",
    "    a = float(input(\"Entrez un prix hors taxe : \"))\n",
    "    TTC = a*1.20\n",
    "    print (\"Le prix TTC est : \", TTC)\n",
    "print (\"Le programme est terminé\")\n",
    "    \n"
   ]
  },
  {
   "cell_type": "code",
   "execution_count": null,
   "metadata": {},
   "outputs": [],
   "source": [
    "Soit les listes L1 = [2, 7, 3, 1, 5, 7, 1] et L2 = [8, 5, 9, 4, 1, 1, 5]. Produisez\n",
    "une liste L3 qui contient une seul et unique fois tout les éléments de L1\n",
    "et L2."
   ]
  },
  {
   "cell_type": "code",
   "execution_count": null,
   "metadata": {},
   "outputs": [],
   "source": [
    "L1 = [2,7,3,1,5,7,1]\n",
    "L2 = [8,5,9,4,1,1,5]\n",
    "L3 = []\n",
    "for i in L1:\n",
    "    if i not in L3:\n",
    "        L3.append(i)\n",
    "for j in L2:\n",
    "    if j not in L3:\n",
    "        L3.append(j)"
   ]
  },
  {
   "cell_type": "code",
   "execution_count": 11,
   "metadata": {},
   "outputs": [
    {
     "name": "stdout",
     "output_type": "stream",
     "text": [
      "La liste est un palindrome\n"
     ]
    }
   ],
   "source": [
    "L1 = [1,2,3,4,3,2,1]\n",
    "if (L1 == L1 [::-1]):\n",
    "    print(\"La liste est un palindrome\")\n",
    "else : \n",
    "    print(\"La liste n'est pas un palindrome\")"
   ]
  },
  {
   "cell_type": "code",
   "execution_count": null,
   "metadata": {},
   "outputs": [],
   "source": []
  }
 ],
 "metadata": {
  "kernelspec": {
   "display_name": "Python 3",
   "language": "python",
   "name": "python3"
  },
  "language_info": {
   "codemirror_mode": {
    "name": "ipython",
    "version": 3
   },
   "file_extension": ".py",
   "mimetype": "text/x-python",
   "name": "python",
   "nbconvert_exporter": "python",
   "pygments_lexer": "ipython3",
   "version": "3.7.6"
  }
 },
 "nbformat": 4,
 "nbformat_minor": 4
}
